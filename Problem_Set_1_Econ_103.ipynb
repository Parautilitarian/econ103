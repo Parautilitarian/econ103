{
 "cells": [
  {
   "cell_type": "markdown",
   "metadata": {},
   "source": [
    "# Econ 103 - Problem Set 1<br>\n",
    "## Due Date: April, 12, 2022\n",
    "\n",
    "\n",
    "This problem set covers some topics taught in Econ~41.\n",
    "Part of the problem set consists of selected exercises from Chapter 1 of the book Principles of Econometrics (Hill, Griffiths, \\& Lim).\n",
    "\n"
   ]
  },
  {
   "cell_type": "markdown",
   "metadata": {},
   "source": [
    "## Question 1\n",
    "\n",
    "Let $X,Y$ are random variables (r.v.) and $a,b,c,d$ are values.\n",
    "Complete the formulas using the expectations $E(X),E(Y),$ variances $Var(X),Var(Y)$ and  covariance $Cov(X,Y)$ of variables $X,Y:$<br>\n",
    "> (a) $E(aX + c)$\n",
    "<br>(b) $Var(aX + c)$\n",
    "<br>(c) $E(aX + bY + c)$\n",
    "<br>(d) $Var(aX + bY + c)$\n",
    "<br>(e) The covariance between $aX + c$ and $bY + d,$ that is, $Cov(aX + c,bY + d)$\n",
    "<br>(f) The correlation between $X,Y$ that is, $Corr(X,Y)$\n",
    "<br>(g) The correlation between $aX + c$ and $bY + d,$ that is, $Corr(aX + c,bY + d)$\n",
    "\n"
   ]
  },
  {
   "cell_type": "markdown",
   "metadata": {
    "deletable": false,
    "nbsimplegrader": {
     "response": true
    }
   },
   "source": [
    "To answer the questions below, you must write equations.\n",
    "You can use plain text or use the math model of the Markdown cell.\n",
    "To see the math mode, double click on the cell above.\n",
    "The math mode uses one dolloar sign to start an equation and another dollar sign to close an equation.\n",
    "\n",
    "(a) = aE(X) + c\n",
    "\n",
    "(b) = a^2Var(X)\n",
    "\n",
    "(c) = aE(X) + bE(Y) + c\n",
    "\n",
    "(d) = a^{2Var(X) + b^2Var(Y)\n",
    "\n",
    "(e) = E[(aX + c)(bY + d)] - E(aX + c)E(bY + d) = \n",
    "\n",
    "(f) = Cov(X, Y)\n",
    "\n",
    "(g)\n"
   ]
  },
  {
   "cell_type": "markdown",
   "metadata": {},
   "source": [
    "## Question 2 \n",
    "\n",
    "Let $X$ and $\\epsilon$ be independent normally distributed random variables such that\n",
    "$X\\sim N(5,4)$ and  $\\epsilon \\sim N(0,9).$\n",
    "Let $Y$ be a random variable given by $Y = 1 + 2X + \\epsilon.$\n",
    "Compute:\n",
    ">(a) $E(Y)$\n",
    "<br>(b) $Var(Y)$\n",
    "<br>(c) $Cov(X,Y)$\n",
    "<br>(d) $Corr(X,Y)$\n",
    "<br>(e) What is the value of the ratio $Cov(X,Y)/Var(X)$ ?\n",
    "<br>(f) If $Y = 1 + 3X + \\epsilon$ instead, what would be the value of $Cov(X,Y)/Var(X)$ ?\n",
    "<br>(g) If $Y = 1 + 7X + \\epsilon$ instead, what would be the value of $Cov(X,Y)/Var(X)$ ?\n",
    "\n"
   ]
  },
  {
   "cell_type": "markdown",
   "metadata": {
    "deletable": false,
    "nbsimplegrader": {
     "response": true
    }
   },
   "source": [
    "(a)\n",
    "\n",
    "(b)\n",
    "\n",
    "(c)\n",
    "\n",
    "(d)\n",
    "\n",
    "(e)\n",
    "\n",
    "(f)\n",
    "\n",
    "(g)\n"
   ]
  },
  {
   "cell_type": "markdown",
   "metadata": {},
   "source": [
    "## Question 3\n",
    "\n",
    "A normally distributed random variable $X$ with mean $\\mu$ and variance $\\sigma^2$ is denoted by $X\\sim N(\\mu,\\sigma).$ \n",
    "\n",
    "The R command\n",
    ">pnorm(x, mean = $\\mu$, sd = $\\sigma$)\n",
    "\n",
    "gives the probability $P(X< x)$ for a normally distributed variable $X \\sim N(\\mu,\\sigma^2).$  \n",
    "\n",
    "For instance, let $X \\sim N(1,4)$. Then $P(X<2)$ is computed by: \n",
    ">pnorm(2, mean = 1, sd = 2)\n",
    "\n",
    "The command:\n",
    ">qnorm(p, mean = $\\mu$, sd = $\\sigma$)\n",
    "\n",
    "gives the value $x$ such that $P(X<x)=$ **p**. For instance, the value $x$ such that $P(X<x)=0.7$ for $X \\sim N(1,4)$ is computed by:\n",
    ">qnorm(0.7, mean = 1, sd = 2)\n",
    "\n",
    "This question is only for you to familirize with the code section of Jupyter.\n",
    "You must run the two codes above, which are already writeen below: "
   ]
  },
  {
   "cell_type": "code",
   "execution_count": null,
   "metadata": {
    "deletable": false,
    "nbsimplegrader": {
     "response": true
    }
   },
   "outputs": [],
   "source": [
    "qnorm(0.7, mean = 1, sd = 2)\n",
    "pnorm(2, mean = 1, sd = 2)"
   ]
  },
  {
   "cell_type": "markdown",
   "metadata": {
    "tags": []
   },
   "source": [
    "## Question 4\n",
    "\n",
    "Now that you know how how the commands *qnorm* and *pnorm* work, compute the following items a to d below for a random variable $X\\sim N(10,16):$\n",
    "\n",
    ">(a) $P(X<2)$\n",
    "<br>(b) $P(X>18)$ \n",
    "<br>(c) Value $x$ such that $P(X < x) = 0.05$ \n",
    "<br>(d) Value $x$ such that $P(X > x) = 0.95$\n"
   ]
  },
  {
   "cell_type": "markdown",
   "metadata": {
    "deletable": false,
    "nbsimplegrader": {
     "response": true
    }
   },
   "source": [
    " (a) = 0.0227501319481792\n",
    "\n",
    " (b) = 0.0227501319481792\n",
    "\n",
    " (c) x = 3.42058549219411\n",
    "\n",
    " (d) P(X > x) = 1 - P(X <= x) = 0.95\n",
    "     <br>P(X <= x) = 1 - 0.95 = 0.05\n",
    "     <br>x = 3.42058549219411\n"
   ]
  },
  {
   "cell_type": "code",
   "execution_count": 11,
   "metadata": {},
   "outputs": [
    {
     "data": {
      "text/html": [
       "0.0227501319481792"
      ],
      "text/latex": [
       "0.0227501319481792"
      ],
      "text/markdown": [
       "0.0227501319481792"
      ],
      "text/plain": [
       "[1] 0.02275013"
      ]
     },
     "metadata": {},
     "output_type": "display_data"
    },
    {
     "data": {
      "text/html": [
       "0.0227501319481792"
      ],
      "text/latex": [
       "0.0227501319481792"
      ],
      "text/markdown": [
       "0.0227501319481792"
      ],
      "text/plain": [
       "[1] 0.02275013"
      ]
     },
     "metadata": {},
     "output_type": "display_data"
    },
    {
     "data": {
      "text/html": [
       "3.42058549219411"
      ],
      "text/latex": [
       "3.42058549219411"
      ],
      "text/markdown": [
       "3.42058549219411"
      ],
      "text/plain": [
       "[1] 3.420585"
      ]
     },
     "metadata": {},
     "output_type": "display_data"
    }
   ],
   "source": [
    "# Use this R cell if you want to make calculations\n",
    "# you must write the commands that answer items a to d above \n",
    "# and click on run at the toolbar on the top of this window \n",
    "#1\n",
    "pnorm(2, mean = 10, sd = 4)\n",
    "#2\n",
    "1-pnorm(18, mean = 10, sd = 4)\n",
    "#3\n",
    "qnorm(0.05, mean = 10, sd = 4)"
   ]
  },
  {
   "cell_type": "markdown",
   "metadata": {},
   "source": [
    "## Question 5\n",
    "\n",
    "As you walk into your econometrics exam, a friend bets you \\\\$10 that she will outscore you on the exam. \n",
    "Let $X$ be a random variable denoting your winnings. \n",
    "$X$ can take the values $10,$ if you win the bet, $0$ if there is a score tie, or $-10$ if you lose. \n",
    "You know that the probability distribution for $X$ is denoted by $f(x)$ and it depends on whether she studied for the exam or not.  Let $Y$ be the random variable that indicates if she studied, \n",
    "$Y = 0$ if she studied and $Y = 1$ if she did not study. \n",
    "The following table denotes the joint distribution of $X$ and $Y:$\n",
    "\n",
    "|   | Y=0 | Y=1 | f(x) |\n",
    "| :--- |:---:| :---:| :---:|\n",
    "| **X = -10** | 0.18 | $p_1$ | $p_2$ |\n",
    "| **X = 0**  | 0 | $p_3$ | 0.3 |\n",
    "| **X = 10** | $p_4$ | 0.45 | $p_5$ |\n",
    "| **f(y)** | $p_6$ | 0.75 | - |\n",
    "\n",
    "Probabilities $p_1,p_2,p_3,p_4,p_5,p_6$ are not displayed in the table. Answer the following items:\n",
    "\n",
    ">(a) Compute the Probabilities $p_1,p_2,p_3,p_4,p_5,p_6$ of the table.\n",
    "<br>(b) Compute the expectation $E(X)$. Should you take the bet?\n",
    "<br>(c) What is the probability distribution of your winnings if you **know** that she did not study,\n",
    "namely, $P(X=-10|Y=1),P(X=0|Y=1),P(X=10|Y=1)$?  \n",
    "(d) Find your expected winnings given that she did not study, namely $E(X|Y=1)$."
   ]
  },
  {
   "cell_type": "markdown",
   "metadata": {
    "deletable": false,
    "nbsimplegrader": {
     "response": true
    }
   },
   "source": [
    " \n",
    " (a) p3 = 0.3, p1 = 0, p2 = 0.18, p5 = 0.52, p4 = 0.07, p6 = 0.25\n",
    "\n",
    " (b) E(X) = 3.4 > 0 \n",
    " <br>I should take the bet.\n",
    "\n",
    " (c) P(X=-10|Y=1) = p1 / 0.75 = 0\n",
    " <br>P(X=0|Y=1) = p3 / 0.75 = 0.4\n",
    " <br>P(X=10|Y=1) = 0.45 / 0.75 = 0.6\n",
    "\n",
    " (d) E(X|Y=1) \n"
   ]
  },
  {
   "cell_type": "code",
   "execution_count": 18,
   "metadata": {},
   "outputs": [
    {
     "data": {
      "text/html": [
       "0.52"
      ],
      "text/latex": [
       "0.52"
      ],
      "text/markdown": [
       "0.52"
      ],
      "text/plain": [
       "[1] 0.52"
      ]
     },
     "metadata": {},
     "output_type": "display_data"
    },
    {
     "data": {
      "text/html": [
       "0.07"
      ],
      "text/latex": [
       "0.07"
      ],
      "text/markdown": [
       "0.07"
      ],
      "text/plain": [
       "[1] 0.07"
      ]
     },
     "metadata": {},
     "output_type": "display_data"
    },
    {
     "data": {
      "text/html": [
       "3.4"
      ],
      "text/latex": [
       "3.4"
      ],
      "text/markdown": [
       "3.4"
      ],
      "text/plain": [
       "[1] 3.4"
      ]
     },
     "metadata": {},
     "output_type": "display_data"
    },
    {
     "data": {
      "text/html": [
       "0.4"
      ],
      "text/latex": [
       "0.4"
      ],
      "text/markdown": [
       "0.4"
      ],
      "text/plain": [
       "[1] 0.4"
      ]
     },
     "metadata": {},
     "output_type": "display_data"
    },
    {
     "data": {
      "text/html": [
       "0.6"
      ],
      "text/latex": [
       "0.6"
      ],
      "text/markdown": [
       "0.6"
      ],
      "text/plain": [
       "[1] 0.6"
      ]
     },
     "metadata": {},
     "output_type": "display_data"
    }
   ],
   "source": [
    "# Use this R cell if you want to make calculations\n",
    "# Recall that R can make all basic calculations: sum, subtartion, division and multiplication as a normal calculator\n",
    "#a\n",
    "1 - 0.3 - 0.18\n",
    "0.52 - 0.45\n",
    "#b\n",
    "P5<-c(0.18, 0.3, 0.52)\n",
    "X5<-c(-10, 0, 10)\n",
    "EX5b<-sum(X5*P5)\n",
    "EX5b\n",
    "#c\n",
    "0.3 / 0.75\n",
    "0.45 / 0.75"
   ]
  },
  {
   "cell_type": "markdown",
   "metadata": {},
   "source": [
    "## Question 6\n",
    "\n",
    "In the US the North and South are quite different. Below is the joint probability distribution of political affiliation ($R$ = Republican, $I$ = Independent and $D$ = Democrat) for a Northern city and a Southern city.\n",
    "\n",
    "<table>\n",
    "<tr>\n",
    "<th>   </th>\n",
    "<th> R </th>\n",
    "<th> I </th>\n",
    "<th> D </th>\n",
    "</tr>\n",
    "\n",
    "<tr>\n",
    "<th> Southern </th>\n",
    "<th> 0.24  </th>\n",
    "<th> 0.04  </th>\n",
    "<th> 0.12  </th>\n",
    "</tr>\n",
    "\n",
    "<tr>\n",
    "<th> Northen </th>\n",
    "<th> 0.18  </th>\n",
    "<th> 0.12  </th>\n",
    "<th> 0.30  </th>\n",
    "</tr>\n",
    "\n",
    "</table>\n",
    "\n",
    "\n",
    ">(a) What is the probability of selecting a Republican given that we sample from the Northern city?\n",
    "<br>(b) Are political affiliation and region of residence statistically independent random variables? Explain.\n"
   ]
  },
  {
   "cell_type": "markdown",
   "metadata": {
    "deletable": false,
    "nbsimplegrader": {
     "response": true
    }
   },
   "source": [
    "(a)\n",
    "\n",
    "(b)\n"
   ]
  },
  {
   "cell_type": "code",
   "execution_count": 6,
   "metadata": {},
   "outputs": [],
   "source": [
    "# Use this R cell if you want to make calculations"
   ]
  },
  {
   "cell_type": "markdown",
   "metadata": {},
   "source": [
    "## Question 7\n",
    "\n",
    "Marketing researchers have determined that there is a relationship between sales of canned tuna and the price of canned tuna. Specifically, \n",
    "$$SALES = 40,710 - 430 PRICE,$$\n",
    "where $SALES$ are cans sold per week and $PRICE$ is measured in cents per can. \n",
    "Suppose $PRICE$ is (approximately) a normal random variable with mean \n",
    "$\\mu = 75$ cents and standard deviation $\\sigma = 5$ cents. \n",
    "That is $PRICE \\sim N(75, 25)$.\\\\\n",
    "\n",
    ">(a) What is the expected value of $SALES$? \n",
    "<br>(b) What is the variance of $SALES$? \n",
    "<br>(c) Find the probability that more than $6,300$ cans are sold in a week. \n"
   ]
  },
  {
   "cell_type": "markdown",
   "metadata": {
    "deletable": false,
    "nbsimplegrader": {
     "response": true
    }
   },
   "source": [
    "\n",
    "(a)\n",
    "\n",
    "(b)\n",
    "\n",
    "(c)\n"
   ]
  },
  {
   "cell_type": "code",
   "execution_count": 7,
   "metadata": {},
   "outputs": [],
   "source": [
    "# Use this R cell if you want to make calculations\n",
    "# This exercise combines basic manipulations of expectation and variance \n",
    "# with basic properties of the normal distribution\n"
   ]
  },
  {
   "cell_type": "markdown",
   "metadata": {},
   "source": [
    "## Question 7\n",
    "\n",
    " Let $X$ be a discrete random variable that is the value shown on a single roll of a fair die.\n",
    ">(a) What is the expected value of $X$? Explain the meaning of $E(X)$ in this case.\n",
    "<br>(b) Find the expected value of $X^2$.\n",
    "<br>(c) Find the variance of $X$.\n"
   ]
  },
  {
   "cell_type": "markdown",
   "metadata": {
    "deletable": false,
    "nbsimplegrader": {
     "response": true
    }
   },
   "source": [
    "\n",
    "(a)\n",
    "\n",
    "(b)\n",
    "\n",
    "(c)\n"
   ]
  },
  {
   "cell_type": "code",
   "execution_count": 8,
   "metadata": {},
   "outputs": [],
   "source": [
    "# Use this R cell if you want to make calculations"
   ]
  },
  {
   "cell_type": "markdown",
   "metadata": {},
   "source": [
    "## Question 8\n",
    "\n",
    "The probability distribution of the number of students absent on Mondays, is as follows:\n",
    "\n",
    "<table>\n",
    "<tr>\n",
    "<th> X  </th> \n",
    "<th> 0  </th>  \n",
    "<th> 1  </th>  \n",
    "<th> 2  </th>  \n",
    "<th> 3  </th>  \n",
    "<th> 4  </th>  \n",
    "<th> 5  </th>  \n",
    "<th> 6  </th>  \n",
    "<th> 7  </th>\n",
    "</tr>\n",
    "\n",
    "<tr>\n",
    "<th> f(x) </th> \n",
    "    <th> 0.02 </th> \n",
    "    <th> 0.03 </th> \n",
    "    <th> 0.26 </th> \n",
    "    <th> 0.34 </th> \n",
    "    <th> 0.22 </th> \n",
    "    <th> 0.08 </th> \n",
    "    <th> 0.04 </th> \n",
    "    <th> 0.01 </th>\n",
    "</tr>\n",
    "\n",
    "</table>\n",
    "\n",
    ">(a) What is the probability that more than 3 students are absent.\n",
    "<br>(b) Compute the expected value of the random variable $X$. Interpret this expected value.\n",
    "<br>(c) Compute the variance and standard deviation of the random variable $X$.\n",
    "<br>(d) Compute the expected value and variance of $Y = 7X + 3$.\n",
    "<br>(e) Compute the covariance $Cov(X,Y)$\n",
    "<br>(f) What is the value of the ratio $Cov(X,Y)/Var(X)$ ?\n",
    "<br>(g) What is the value of $Cov(X,Y)/Var(X)$ for $Y = \\beta_0 + \\beta_1 X$ ?\n",
    "\n",
    "(For this exrcise, you can use excel. No need to show all calculations, just specify the formulas and present the final values.)\n",
    "\n"
   ]
  },
  {
   "cell_type": "markdown",
   "metadata": {
    "deletable": false,
    "nbsimplegrader": {
     "response": true
    }
   },
   "source": [
    "\n",
    "(a) \n",
    "\n",
    "(b)\n",
    "\n",
    "(c)\n",
    "\n",
    "(d)\n",
    "\n",
    "(e)\n",
    "\n",
    "(f)\n",
    "\n",
    "(g)\n"
   ]
  },
  {
   "cell_type": "code",
   "execution_count": 6,
   "metadata": {},
   "outputs": [
    {
     "data": {
      "text/html": [
       "0.35"
      ],
      "text/latex": [
       "0.35"
      ],
      "text/markdown": [
       "0.35"
      ],
      "text/plain": [
       "[1] 0.35"
      ]
     },
     "metadata": {},
     "output_type": "display_data"
    },
    {
     "data": {
      "text/html": [
       "3.16"
      ],
      "text/latex": [
       "3.16"
      ],
      "text/markdown": [
       "3.16"
      ],
      "text/plain": [
       "[1] 3.16"
      ]
     },
     "metadata": {},
     "output_type": "display_data"
    }
   ],
   "source": [
    "# Use this R cell if you want to make calculations\n",
    "# You can also use Excel if you prefer\n",
    "# Note that letter f gives you a basic relation that is atthe core of the linear regression \n",
    "# You can apply this relation to answer the general case of letter g \n",
    "\n",
    "P<-c(0.02, 0.03, 0.26, 0.34, 0.22, 0.08, 0.04, 0.01)\n",
    "sum(P[c(5:8)])\n",
    "\n",
    "X<-c(0, 1, 2, 3, 4, 5, 6, 7)\n",
    "EX<-sum(X*P)\n",
    "EX"
   ]
  },
  {
   "cell_type": "markdown",
   "metadata": {},
   "source": [
    "## Question 9\n",
    "\n",
    "Express each of the following sums in summation notation.\n",
    "\n",
    ">(a) $x_1y_1 + x_2y_2 + x_3y_3 + x_4y_4$\n",
    "<br>(b) $(x_1 - y_1) + (x_2 - y_2) + (x_3 - y_3)$\n"
   ]
  },
  {
   "cell_type": "markdown",
   "metadata": {
    "deletable": false,
    "nbsimplegrader": {
     "response": true
    }
   },
   "source": [
    "This question asks a basic nottaion to represent sums. \n",
    "We will use sums manipulations durig the course.\n",
    "\n",
    "(a)\n",
    "\n",
    "(b)\n"
   ]
  },
  {
   "cell_type": "markdown",
   "metadata": {},
   "source": [
    "## Question 10\n",
    "\n",
    "Let $X$ be associated with a data sample that take 4 values $x_1 = 1, x_2 = 3, x_3 = 5, x_4 = 3$.\n",
    "Let $\\bar x$ be the sample average.\n",
    ">(a) Calculate $\\sum_{i = 1}^{4} (x_i - \\bar x)$\n",
    "<br>(b) Calculate $\\sum_{i = 1}^{4} (x_i - \\bar x)^2$"
   ]
  },
  {
   "cell_type": "markdown",
   "metadata": {
    "deletable": false,
    "nbsimplegrader": {
     "response": true
    }
   },
   "source": [
    "\n",
    "(a)\n",
    "\n",
    "(b)\n"
   ]
  },
  {
   "cell_type": "code",
   "execution_count": 10,
   "metadata": {},
   "outputs": [],
   "source": [
    "# This is a simple exercise for you to understand the notation of sums.\n",
    "# Use this R cell if you want to make calculations\n",
    "# You can also use Excel if you preffer\n",
    "\n"
   ]
  }
 ],
 "metadata": {
  "kernelspec": {
   "display_name": "R",
   "language": "R",
   "name": "ir"
  },
  "language_info": {
   "codemirror_mode": "r",
   "file_extension": ".r",
   "mimetype": "text/x-r-source",
   "name": "R",
   "pygments_lexer": "r",
   "version": "4.1.1"
  },
  "nbsimplegrader": {
   "locked": true
  },
  "toc": {
   "base_numbering": 1,
   "nav_menu": {},
   "number_sections": true,
   "sideBar": true,
   "skip_h1_title": false,
   "title_cell": "Table of Contents",
   "title_sidebar": "Contents",
   "toc_cell": false,
   "toc_position": {},
   "toc_section_display": true,
   "toc_window_display": false
  }
 },
 "nbformat": 4,
 "nbformat_minor": 4
}
